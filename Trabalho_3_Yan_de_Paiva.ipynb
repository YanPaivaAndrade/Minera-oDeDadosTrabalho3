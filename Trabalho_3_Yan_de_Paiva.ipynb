{
  "nbformat": 4,
  "nbformat_minor": 0,
  "metadata": {
    "colab": {
      "name": "Trabalho 3 - Yan de Paiva.ipynb",
      "provenance": [],
      "collapsed_sections": [],
      "mount_file_id": "1JL8yMe1UlGNd-2uDXfNchxU9lVklEzCp",
      "authorship_tag": "ABX9TyN6UoUtX7U2hMe32USA3w9/",
      "include_colab_link": true
    },
    "kernelspec": {
      "name": "python3",
      "display_name": "Python 3"
    }
  },
  "cells": [
    {
      "cell_type": "markdown",
      "metadata": {
        "id": "view-in-github",
        "colab_type": "text"
      },
      "source": [
        "<a href=\"https://colab.research.google.com/github/YanPaivaAndrade/Minera-oDeDadosTrabalho3/blob/main/Trabalho_3_Yan_de_Paiva.ipynb\" target=\"_parent\"><img src=\"https://colab.research.google.com/assets/colab-badge.svg\" alt=\"Open In Colab\"/></a>"
      ]
    },
    {
      "cell_type": "markdown",
      "metadata": {
        "id": "AwD5dEH08m_u"
      },
      "source": [
        "texto em itálico# **Trabalho 3 - Aluno: Yan de Paiva Andrade Pinto**\r\n",
        "Matricula: 201476038\r\n",
        "Base de dados: **trabalho3_dados_29**"
      ]
    },
    {
      "cell_type": "code",
      "metadata": {
        "id": "LSSRAk32EmbL",
        "colab": {
          "base_uri": "https://localhost:8080/"
        },
        "outputId": "64f2c0f4-74a3-4fe2-ce7e-857f46392086"
      },
      "source": [
        "from google.colab import drive\r\n",
        "\r\n",
        "drive.mount('/content/drive')\r\n"
      ],
      "execution_count": 1,
      "outputs": [
        {
          "output_type": "stream",
          "text": [
            "Mounted at /content/drive\n"
          ],
          "name": "stdout"
        }
      ]
    },
    {
      "cell_type": "markdown",
      "metadata": {
        "id": "edoCnzrl5oHn"
      },
      "source": [
        "\r\n",
        "\r\n",
        "# **Tratamento dos dados**\r\n",
        "  \r\n",
        "\r\n",
        "*   Remoção de dados duplicados\r\n",
        "*   Substituir '' por NaN\r\n",
        "*   Substituir 'tdb' por NaN\r\n",
        "*   Levantando numero de dados faltantes "
      ]
    },
    {
      "cell_type": "code",
      "metadata": {
        "id": "HKFHYH_tE0-g",
        "colab": {
          "base_uri": "https://localhost:8080/"
        },
        "outputId": "a6fbc141-d072-49ed-f7d4-39e7bac67c7f"
      },
      "source": [
        "import pandas as pd\r\n",
        "dadosTrabalho2 = pd.read_csv(\"/content/drive/MyDrive/Colab Notebooks/Mineracao/trabalho2_dados_29.csv\", dtype={'plataforma':'category'})\r\n",
        "dadosTrabalho3 = pd.read_csv(\"/content/drive/MyDrive/Colab Notebooks/Mineracao/trabalho3_dados_adicionais_29.csv\", dtype={'plataforma':'category'})\r\n",
        "dadosOriginais = dadosTrabalho2.append(dadosTrabalho3);\r\n",
        "dados = dadosOriginais;\r\n",
        "print (dadosOriginais.count())\r\n",
        "\r\n",
        "dados = dados.drop_duplicates();\r\n",
        "print(dados.count());\r\n",
        "dados = dados.replace({'':float('nan')}).replace({'tbd':float('nan')})\r\n",
        "dados_null_antes_agrupamento_nome = dados.isnull().sum()\r\n",
        "print(dados_null_antes_agrupamento_nome)\r\n",
        "dados = dados.drop(columns=['plataforma'])\r\n"
      ],
      "execution_count": 9,
      "outputs": [
        {
          "output_type": "stream",
          "text": [
            "nome                  3198\n",
            "plataforma            3198\n",
            "genero                3198\n",
            "editora               3194\n",
            "vendas                3198\n",
            "lancamento            2462\n",
            "avaliacao-criticos    2042\n",
            "numero-criticos       2042\n",
            "avaliacao-usuarios    2426\n",
            "numero-usuarios       1938\n",
            "fabricante            2450\n",
            "dtype: int64\n",
            "nome                  2428\n",
            "plataforma            2428\n",
            "genero                2428\n",
            "editora               2425\n",
            "vendas                2428\n",
            "lancamento            1810\n",
            "avaliacao-criticos    1480\n",
            "numero-criticos       1480\n",
            "avaliacao-usuarios    1784\n",
            "numero-usuarios       1404\n",
            "fabricante            1801\n",
            "dtype: int64\n",
            "nome                     0\n",
            "plataforma               0\n",
            "genero                   0\n",
            "editora                  3\n",
            "vendas                   0\n",
            "lancamento             618\n",
            "avaliacao-criticos     948\n",
            "numero-criticos        948\n",
            "avaliacao-usuarios    1024\n",
            "numero-usuarios       1024\n",
            "fabricante             627\n",
            "dtype: int64\n"
          ],
          "name": "stdout"
        }
      ]
    },
    {
      "cell_type": "markdown",
      "metadata": {
        "id": "rjAgmDnmMOJZ"
      },
      "source": [
        "# **Transformação, Agrupamento de valores e Calculo da mediana por agrupamento.**\r\n",
        "*   Atribuir tipagem numerica para as colunas: \"avaliacao-criticos\", \"numero-criticos\", \"avaliacao-usuarios\" e \"numero-usuarios\".\r\n",
        "*   Agrupar dados por nome do jogo\r\n",
        "*   Calcular a mediana dos determinados agrupamentos, a fim de tratar valores faltantes.\r\n",
        "\r\n",
        "Com a definição do id da instancia como “nome”, torna-se indiferente o atributo plataforma para minha base de dados. Entretanto esse atributo gerou uma replicação de instancias, uma vez que o jogo poderia estar presente em múltiplas plataformas.\r\n",
        "\r\n",
        "Dito isto o objetivo inicial é completar os dados faltantes com maior realismo possível, pra isso agrupei os dados por nome a fim de calcular a mediana dos valores replicados. E substituir nas instancias com valores faltantes.\r\n",
        "\r\n"
      ]
    },
    {
      "cell_type": "code",
      "metadata": {
        "id": "VPOYo5A5M-jw"
      },
      "source": [
        "for column in dados.columns:\r\n",
        "    if (dados[column].isnull().sum() > 0 and (column == \"avaliacao-criticos\"\\\r\n",
        "     or column == \"numero-criticos\" or column == \"avaliacao-usuarios\"\\\r\n",
        "      or column == \"numero-usuarios\")):\r\n",
        "        dados[column] = dados[column].apply(pd.to_numeric)\r\n",
        "\r\n",
        "tbl_avaliacao_criticos = dados[[\"nome\",\"avaliacao-criticos\"]]\r\n",
        "median_avaliacao_criticos = tbl_avaliacao_criticos.groupby(\"nome\").median()\r\n",
        "\r\n",
        "tbl_numero_criticos = dados[[\"nome\", \"numero-criticos\"]]\r\n",
        "median_numero_criticos = tbl_numero_criticos.groupby(\"nome\").median()\r\n",
        "\r\n",
        "tbl_avaliacao_usuarios = dados[[\"nome\", \"avaliacao-usuarios\"]]\r\n",
        "median_avaliacao_usuarios = tbl_avaliacao_usuarios.groupby(\"nome\").median()\r\n",
        "\r\n",
        "tbl_numero_usuarios = dados[[\"nome\", \"numero-usuarios\"]]\r\n",
        "median_numero_usuarios = tbl_numero_usuarios.groupby(\"nome\").median()\r\n"
      ],
      "execution_count": 10,
      "outputs": []
    },
    {
      "cell_type": "code",
      "metadata": {
        "id": "hXycv8IN9R9d"
      },
      "source": [
        "for e in median_avaliacao_criticos.index:\r\n",
        "    tbl_avaliacao_criticos.loc[tbl_avaliacao_criticos[\"nome\"] == e] =\\\r\n",
        "        tbl_avaliacao_criticos.loc[tbl_avaliacao_criticos[\"nome\"] == e].\\\r\n",
        "            fillna(median_avaliacao_criticos[\"avaliacao-criticos\"].get(e))\r\n",
        "dados[\"avaliacao-criticos\"] = tbl_avaliacao_criticos[\"avaliacao-criticos\"]\r\n"
      ],
      "execution_count": null,
      "outputs": []
    },
    {
      "cell_type": "code",
      "metadata": {
        "id": "qchypPEe9Tvc"
      },
      "source": [
        "for e in median_numero_criticos.index:\r\n",
        "    tbl_numero_criticos.loc[tbl_numero_criticos[\"nome\"] == e] =\\\r\n",
        "        tbl_numero_criticos.loc[tbl_numero_criticos[\"nome\"] == e].\\\r\n",
        "            fillna(median_numero_criticos[\"numero-criticos\"].get(e))\r\n",
        "dados[\"numero-criticos\"] = tbl_numero_criticos[\"numero-criticos\"]"
      ],
      "execution_count": null,
      "outputs": []
    },
    {
      "cell_type": "code",
      "metadata": {
        "id": "kq5y9x8NCpLr"
      },
      "source": [
        "for e in median_avaliacao_usuarios.index:\r\n",
        "    tbl_avaliacao_usuarios.loc[tbl_avaliacao_usuarios[\"nome\"] == e] =\\\r\n",
        "        tbl_avaliacao_usuarios.loc[tbl_avaliacao_usuarios[\"nome\"] == e].\\\r\n",
        "            fillna(median_avaliacao_usuarios[\"avaliacao-usuarios\"].get(e))\r\n",
        "dados[\"avaliacao-usuarios\"] = tbl_avaliacao_usuarios[\"avaliacao-usuarios\"]"
      ],
      "execution_count": null,
      "outputs": []
    },
    {
      "cell_type": "code",
      "metadata": {
        "id": "HgC7948MCs1J"
      },
      "source": [
        "for e in median_numero_usuarios.index:\r\n",
        "    tbl_numero_usuarios.loc[tbl_numero_usuarios[\"nome\"] == e] =\\\r\n",
        "        tbl_numero_usuarios.loc[tbl_numero_usuarios[\"nome\"] == e].\\\r\n",
        "            fillna(median_numero_usuarios[\"numero-usuarios\"].get(e))\r\n",
        "dados[\"numero-usuarios\"] = tbl_numero_usuarios[\"numero-usuarios\"]"
      ],
      "execution_count": null,
      "outputs": []
    },
    {
      "cell_type": "code",
      "metadata": {
        "colab": {
          "base_uri": "https://localhost:8080/"
        },
        "id": "Eyp5VfyJCw-g",
        "outputId": "737242ed-56b1-41ca-9d3d-a88c60c4e78c"
      },
      "source": [
        "print(dados_null_antes_agrupamento_nome)\r\n",
        "print(dados.isnull().sum())"
      ],
      "execution_count": 15,
      "outputs": [
        {
          "output_type": "stream",
          "text": [
            "nome                     0\n",
            "plataforma               0\n",
            "genero                   0\n",
            "editora                  3\n",
            "vendas                   0\n",
            "lancamento             618\n",
            "avaliacao-criticos     948\n",
            "numero-criticos        948\n",
            "avaliacao-usuarios    1024\n",
            "numero-usuarios       1024\n",
            "fabricante             627\n",
            "dtype: int64\n",
            "nome                    0\n",
            "genero                  0\n",
            "editora                 3\n",
            "vendas                  0\n",
            "lancamento            618\n",
            "avaliacao-criticos    829\n",
            "numero-criticos       829\n",
            "avaliacao-usuarios    873\n",
            "numero-usuarios       873\n",
            "fabricante            627\n",
            "dtype: int64\n"
          ],
          "name": "stdout"
        }
      ]
    }
  ]
}