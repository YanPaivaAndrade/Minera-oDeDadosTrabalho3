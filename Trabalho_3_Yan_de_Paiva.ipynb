{
  "nbformat": 4,
  "nbformat_minor": 0,
  "metadata": {
    "colab": {
      "name": "Trabalho 3 - Yan de Paiva.ipynb",
      "provenance": [],
      "collapsed_sections": [],
      "toc_visible": true,
      "mount_file_id": "1JL8yMe1UlGNd-2uDXfNchxU9lVklEzCp",
      "authorship_tag": "ABX9TyMvZqBbs0KjF2ySWRVjU3Sr",
      "include_colab_link": true
    },
    "kernelspec": {
      "name": "python3",
      "display_name": "Python 3"
    }
  },
  "cells": [
    {
      "cell_type": "markdown",
      "metadata": {
        "id": "view-in-github",
        "colab_type": "text"
      },
      "source": [
        "<a href=\"https://colab.research.google.com/github/YanPaivaAndrade/Minera-oDeDadosTrabalho3/blob/main/Trabalho_3_Yan_de_Paiva.ipynb\" target=\"_parent\"><img src=\"https://colab.research.google.com/assets/colab-badge.svg\" alt=\"Open In Colab\"/></a>"
      ]
    },
    {
      "cell_type": "markdown",
      "metadata": {
        "id": "AwD5dEH08m_u"
      },
      "source": [
        "texto em itálico# **Trabalho 3 - Aluno: Yan de Paiva Andrade Pinto**\r\n",
        "Matricula: 201476038\r\n",
        "Base de dados: **trabalho3_dados_29**"
      ]
    },
    {
      "cell_type": "code",
      "metadata": {
        "id": "LSSRAk32EmbL",
        "colab": {
          "base_uri": "https://localhost:8080/"
        },
        "outputId": "0c915295-46e9-4236-e561-86056a4d8148"
      },
      "source": [
        "from google.colab import drive\r\n",
        "\r\n",
        "drive.mount('/content/drive')\r\n"
      ],
      "execution_count": 1,
      "outputs": [
        {
          "output_type": "stream",
          "text": [
            "Mounted at /content/drive\n"
          ],
          "name": "stdout"
        }
      ]
    },
    {
      "cell_type": "markdown",
      "metadata": {
        "id": "edoCnzrl5oHn"
      },
      "source": [
        "\r\n",
        "\r\n",
        "# **Tratamento dos dados**\r\n",
        "  \r\n",
        "\r\n",
        "*   Remoção de dados duplicados\r\n",
        "*   Substituir '' por NaN\r\n",
        "*   Substituir 'tdb' por NaN\r\n",
        "*   Levantando numero de dados faltantes "
      ]
    },
    {
      "cell_type": "code",
      "metadata": {
        "id": "HKFHYH_tE0-g",
        "colab": {
          "base_uri": "https://localhost:8080/"
        },
        "outputId": "e0843e11-5369-4899-b645-3a52b035fd37"
      },
      "source": [
        "import pandas as pd\r\n",
        "dadosTrabalho2 = pd.read_csv(\"/content/drive/MyDrive/Colab Notebooks/Mineracao/trabalho2_dados_29.csv\", dtype={'plataforma':'category'})\r\n",
        "dadosTrabalho3 = pd.read_csv(\"/content/drive/MyDrive/Colab Notebooks/Mineracao/trabalho3_dados_adicionais_29.csv\", dtype={'plataforma':'category'})\r\n",
        "dadosOriginais = dadosTrabalho2.append(dadosTrabalho3);\r\n",
        "dados = dadosOriginais;\r\n",
        "print (dadosOriginais.count())\r\n",
        "\r\n",
        "dados = dados.drop_duplicates();\r\n",
        "print(dados.count());\r\n",
        "dados = dados.replace({'':float('nan')}).replace({'tbd':float('nan')})\r\n",
        "dados.isnull().sum()\r\n"
      ],
      "execution_count": 6,
      "outputs": [
        {
          "output_type": "stream",
          "text": [
            "nome                  3198\n",
            "plataforma            3198\n",
            "genero                3198\n",
            "editora               3194\n",
            "vendas                3198\n",
            "lancamento            2462\n",
            "avaliacao-criticos    2042\n",
            "numero-criticos       2042\n",
            "avaliacao-usuarios    2426\n",
            "numero-usuarios       1938\n",
            "fabricante            2450\n",
            "dtype: int64\n",
            "nome                  2428\n",
            "plataforma            2428\n",
            "genero                2428\n",
            "editora               2425\n",
            "vendas                2428\n",
            "lancamento            1810\n",
            "avaliacao-criticos    1480\n",
            "numero-criticos       1480\n",
            "avaliacao-usuarios    1784\n",
            "numero-usuarios       1404\n",
            "fabricante            1801\n",
            "dtype: int64\n"
          ],
          "name": "stdout"
        },
        {
          "output_type": "execute_result",
          "data": {
            "text/plain": [
              "nome                     0\n",
              "plataforma               0\n",
              "genero                   0\n",
              "editora                  3\n",
              "vendas                   0\n",
              "lancamento             618\n",
              "avaliacao-criticos     948\n",
              "numero-criticos        948\n",
              "avaliacao-usuarios    1024\n",
              "numero-usuarios       1024\n",
              "fabricante             627\n",
              "dtype: int64"
            ]
          },
          "metadata": {
            "tags": []
          },
          "execution_count": 6
        }
      ]
    }
  ]
}