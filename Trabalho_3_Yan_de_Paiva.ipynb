{
  "nbformat": 4,
  "nbformat_minor": 0,
  "metadata": {
    "colab": {
      "name": "Trabalho 3 - Yan de Paiva.ipynb",
      "provenance": [],
      "collapsed_sections": [],
      "mount_file_id": "1JL8yMe1UlGNd-2uDXfNchxU9lVklEzCp",
      "authorship_tag": "ABX9TyPEpHSPIr9Y+k5d+KSpJXmZ",
      "include_colab_link": true
    },
    "kernelspec": {
      "name": "python3",
      "display_name": "Python 3"
    }
  },
  "cells": [
    {
      "cell_type": "markdown",
      "metadata": {
        "id": "view-in-github",
        "colab_type": "text"
      },
      "source": [
        "<a href=\"https://colab.research.google.com/github/YanPaivaAndrade/Minera-oDeDadosTrabalho3/blob/main/Trabalho_3_Yan_de_Paiva.ipynb\" target=\"_parent\"><img src=\"https://colab.research.google.com/assets/colab-badge.svg\" alt=\"Open In Colab\"/></a>"
      ]
    },
    {
      "cell_type": "markdown",
      "metadata": {
        "id": "AwD5dEH08m_u"
      },
      "source": [
        "texto em itálico# **Trabalho 3 - Aluno: Yan de Paiva Andrade Pinto**\r\n",
        "Matricula: 201476038\r\n",
        "Base de dados: **trabalho3_dados_29**"
      ]
    },
    {
      "cell_type": "code",
      "metadata": {
        "id": "LSSRAk32EmbL",
        "colab": {
          "base_uri": "https://localhost:8080/"
        },
        "outputId": "aef5fd10-c6ce-4217-e919-df5119d3b6e3"
      },
      "source": [
        "from google.colab import drive\r\n",
        "\r\n",
        "drive.mount('/content/drive')\r\n"
      ],
      "execution_count": 2,
      "outputs": [
        {
          "output_type": "stream",
          "text": [
            "Mounted at /content/drive\n"
          ],
          "name": "stdout"
        }
      ]
    },
    {
      "cell_type": "markdown",
      "metadata": {
        "id": "edoCnzrl5oHn"
      },
      "source": [
        "\r\n",
        "\r\n",
        "# **Tratamento dos dados**\r\n",
        "  \r\n",
        "\r\n",
        "*   Remoção de dados duplicados\r\n",
        "*   Substituir '' por NaN\r\n",
        "*   Substituir 'tdb' por NaN\r\n",
        "*   Levantando numero de dados faltantes "
      ]
    },
    {
      "cell_type": "code",
      "metadata": {
        "id": "HKFHYH_tE0-g",
        "colab": {
          "base_uri": "https://localhost:8080/"
        },
        "outputId": "7293e5a8-5fb5-4256-843a-db78f3b4b87d"
      },
      "source": [
        "import pandas as pd\r\n",
        "dadosTrabalho2 = pd.read_csv(\"/content/drive/MyDrive/Colab Notebooks/Mineracao/trabalho2_dados_29.csv\")\r\n",
        "dadosTrabalho3 = pd.read_csv(\"/content/drive/MyDrive/Colab Notebooks/Mineracao/trabalho3_dados_adicionais_29.csv\")\r\n",
        "dadosOriginais = dadosTrabalho2.append(dadosTrabalho3);\r\n",
        "dados = dadosOriginais;\r\n",
        "print (dadosOriginais.count())\r\n",
        "\r\n",
        "dados = dados.drop_duplicates();\r\n",
        "print(dados.count());\r\n",
        "dados = dados.replace({'':float('nan')}).replace({'tbd':float('nan')})\r\n",
        "dados_null_antes_agrupamento_nome = dados.isnull().sum()\r\n",
        "print(dados_null_antes_agrupamento_nome)\r\n"
      ],
      "execution_count": 199,
      "outputs": [
        {
          "output_type": "stream",
          "text": [
            "nome                  3198\n",
            "plataforma            3198\n",
            "genero                3198\n",
            "editora               3194\n",
            "vendas                3198\n",
            "lancamento            2462\n",
            "avaliacao-criticos    2042\n",
            "numero-criticos       2042\n",
            "avaliacao-usuarios    2426\n",
            "numero-usuarios       1938\n",
            "fabricante            2450\n",
            "dtype: int64\n",
            "nome                  2428\n",
            "plataforma            2428\n",
            "genero                2428\n",
            "editora               2425\n",
            "vendas                2428\n",
            "lancamento            1810\n",
            "avaliacao-criticos    1480\n",
            "numero-criticos       1480\n",
            "avaliacao-usuarios    1784\n",
            "numero-usuarios       1404\n",
            "fabricante            1801\n",
            "dtype: int64\n",
            "nome                     0\n",
            "plataforma               0\n",
            "genero                   0\n",
            "editora                  3\n",
            "vendas                   0\n",
            "lancamento             618\n",
            "avaliacao-criticos     948\n",
            "numero-criticos        948\n",
            "avaliacao-usuarios    1024\n",
            "numero-usuarios       1024\n",
            "fabricante             627\n",
            "dtype: int64\n"
          ],
          "name": "stdout"
        }
      ]
    },
    {
      "cell_type": "markdown",
      "metadata": {
        "id": "rjAgmDnmMOJZ"
      },
      "source": [
        "# **Transformação, Agrupamento de valores e Calculo da mediana por agrupamento.**\r\n",
        "*   Atribuir tipagem numerica para as colunas: \"avaliacao-criticos\", \"numero-criticos\", \"avaliacao-usuarios\" e \"numero-usuarios\".\r\n",
        "*   Agrupar dados por nome do jogo\r\n",
        "*   Calcular a mediana dos determinados agrupamentos, a fim de tratar valores faltantes.\r\n",
        "\r\n",
        "Com a definição do id da instancia como “nome”, torna-se indiferente o atributo \"plataforma\" para minha base de dados. Entretanto esse atributo gerou uma replicação de instancias, uma vez que o jogo poderia estar presente em múltiplas plataformas.\r\n",
        "\r\n",
        "Também durante a analise da base de dados o atributo “fabricante” é ausente em cerca de 25% da base e atualmente não é possível inferir o mesmo com uma precisão satisfatória. Dito isto a tomada de decisão foi excluir este atributo.\r\n",
        "\r\n",
        "Dito isto o objetivo inicial é completar os dados faltantes com maior realismo possível, pra isso agrupei os dados por nome a fim de calcular a mediana dos valores replicados. E substituir nas instancias com valores faltantes.\r\n",
        "\r\n"
      ]
    },
    {
      "cell_type": "code",
      "metadata": {
        "id": "VPOYo5A5M-jw"
      },
      "source": [
        "dados = dados.drop(columns=['plataforma'])\r\n",
        "dados = dados.drop(columns=['fabricante'])\r\n",
        "for column in dados.columns:\r\n",
        "    if (dados[column].isnull().sum() > 0 and (column == \"avaliacao-criticos\"\\\r\n",
        "     or column == \"numero-criticos\" or column == \"avaliacao-usuarios\"\\\r\n",
        "      or column == \"numero-usuarios\")):\r\n",
        "        dados[column] = dados[column].apply(pd.to_numeric)\r\n",
        "\r\n",
        "tbl_avaliacao_criticos = dados[[\"nome\",\"avaliacao-criticos\"]]\r\n",
        "median_avaliacao_criticos = tbl_avaliacao_criticos.groupby(\"nome\").median()\r\n",
        "\r\n",
        "tbl_numero_criticos = dados[[\"nome\", \"numero-criticos\"]]\r\n",
        "median_numero_criticos = tbl_numero_criticos.groupby(\"nome\").median()\r\n",
        "\r\n",
        "tbl_avaliacao_usuarios = dados[[\"nome\", \"avaliacao-usuarios\"]]\r\n",
        "median_avaliacao_usuarios = tbl_avaliacao_usuarios.groupby(\"nome\").median()\r\n",
        "\r\n",
        "tbl_numero_usuarios = dados[[\"nome\", \"numero-usuarios\"]]\r\n",
        "median_numero_usuarios = tbl_numero_usuarios.groupby(\"nome\").median()\r\n"
      ],
      "execution_count": 200,
      "outputs": []
    },
    {
      "cell_type": "code",
      "metadata": {
        "colab": {
          "base_uri": "https://localhost:8080/"
        },
        "id": "hXycv8IN9R9d",
        "outputId": "95336483-81a0-4ace-c013-dbe0c322c18c"
      },
      "source": [
        "for e in median_avaliacao_criticos.index:\r\n",
        "    tbl_avaliacao_criticos.loc[tbl_avaliacao_criticos[\"nome\"] == e] =\\\r\n",
        "        tbl_avaliacao_criticos.loc[tbl_avaliacao_criticos[\"nome\"] == e].\\\r\n",
        "            fillna(median_avaliacao_criticos[\"avaliacao-criticos\"].get(e))\r\n",
        "dados[\"avaliacao-criticos\"] = tbl_avaliacao_criticos[\"avaliacao-criticos\"]\r\n"
      ],
      "execution_count": 201,
      "outputs": [
        {
          "output_type": "stream",
          "text": [
            "/usr/local/lib/python3.6/dist-packages/pandas/core/indexing.py:1715: SettingWithCopyWarning: \n",
            "A value is trying to be set on a copy of a slice from a DataFrame.\n",
            "Try using .loc[row_indexer,col_indexer] = value instead\n",
            "\n",
            "See the caveats in the documentation: https://pandas.pydata.org/pandas-docs/stable/user_guide/indexing.html#returning-a-view-versus-a-copy\n",
            "  isetter(loc, v)\n"
          ],
          "name": "stderr"
        }
      ]
    },
    {
      "cell_type": "code",
      "metadata": {
        "colab": {
          "base_uri": "https://localhost:8080/"
        },
        "id": "qchypPEe9Tvc",
        "outputId": "e2e291e2-a4d2-4ec1-e6ea-7b896a7a0147"
      },
      "source": [
        "for e in median_numero_criticos.index:\r\n",
        "    tbl_numero_criticos.loc[tbl_numero_criticos[\"nome\"] == e] =\\\r\n",
        "        tbl_numero_criticos.loc[tbl_numero_criticos[\"nome\"] == e].\\\r\n",
        "            fillna(median_numero_criticos[\"numero-criticos\"].get(e))\r\n",
        "dados[\"numero-criticos\"] = tbl_numero_criticos[\"numero-criticos\"]"
      ],
      "execution_count": 202,
      "outputs": [
        {
          "output_type": "stream",
          "text": [
            "/usr/local/lib/python3.6/dist-packages/pandas/core/indexing.py:1715: SettingWithCopyWarning: \n",
            "A value is trying to be set on a copy of a slice from a DataFrame.\n",
            "Try using .loc[row_indexer,col_indexer] = value instead\n",
            "\n",
            "See the caveats in the documentation: https://pandas.pydata.org/pandas-docs/stable/user_guide/indexing.html#returning-a-view-versus-a-copy\n",
            "  isetter(loc, v)\n"
          ],
          "name": "stderr"
        }
      ]
    },
    {
      "cell_type": "code",
      "metadata": {
        "colab": {
          "base_uri": "https://localhost:8080/"
        },
        "id": "kq5y9x8NCpLr",
        "outputId": "dbaa55dc-13d5-4170-cd33-83cfde790948"
      },
      "source": [
        "for e in median_avaliacao_usuarios.index:\r\n",
        "    tbl_avaliacao_usuarios.loc[tbl_avaliacao_usuarios[\"nome\"] == e] =\\\r\n",
        "        tbl_avaliacao_usuarios.loc[tbl_avaliacao_usuarios[\"nome\"] == e].\\\r\n",
        "            fillna(median_avaliacao_usuarios[\"avaliacao-usuarios\"].get(e))\r\n",
        "dados[\"avaliacao-usuarios\"] = tbl_avaliacao_usuarios[\"avaliacao-usuarios\"]"
      ],
      "execution_count": 203,
      "outputs": [
        {
          "output_type": "stream",
          "text": [
            "/usr/local/lib/python3.6/dist-packages/pandas/core/indexing.py:1715: SettingWithCopyWarning: \n",
            "A value is trying to be set on a copy of a slice from a DataFrame.\n",
            "Try using .loc[row_indexer,col_indexer] = value instead\n",
            "\n",
            "See the caveats in the documentation: https://pandas.pydata.org/pandas-docs/stable/user_guide/indexing.html#returning-a-view-versus-a-copy\n",
            "  isetter(loc, v)\n"
          ],
          "name": "stderr"
        }
      ]
    },
    {
      "cell_type": "code",
      "metadata": {
        "colab": {
          "base_uri": "https://localhost:8080/"
        },
        "id": "HgC7948MCs1J",
        "outputId": "866bcb38-3c44-46c1-f098-a30056294d20"
      },
      "source": [
        "for e in median_numero_usuarios.index:\r\n",
        "    tbl_numero_usuarios.loc[tbl_numero_usuarios[\"nome\"] == e] =\\\r\n",
        "        tbl_numero_usuarios.loc[tbl_numero_usuarios[\"nome\"] == e].\\\r\n",
        "            fillna(median_numero_usuarios[\"numero-usuarios\"].get(e))\r\n",
        "dados[\"numero-usuarios\"] = tbl_numero_usuarios[\"numero-usuarios\"]"
      ],
      "execution_count": 204,
      "outputs": [
        {
          "output_type": "stream",
          "text": [
            "/usr/local/lib/python3.6/dist-packages/pandas/core/indexing.py:1715: SettingWithCopyWarning: \n",
            "A value is trying to be set on a copy of a slice from a DataFrame.\n",
            "Try using .loc[row_indexer,col_indexer] = value instead\n",
            "\n",
            "See the caveats in the documentation: https://pandas.pydata.org/pandas-docs/stable/user_guide/indexing.html#returning-a-view-versus-a-copy\n",
            "  isetter(loc, v)\n"
          ],
          "name": "stderr"
        }
      ]
    },
    {
      "cell_type": "code",
      "metadata": {
        "colab": {
          "base_uri": "https://localhost:8080/"
        },
        "id": "Eyp5VfyJCw-g",
        "outputId": "81d96fbf-eda6-4170-e00f-741661169fe6"
      },
      "source": [
        "print(dados_null_antes_agrupamento_nome)\r\n",
        "print(dados.isnull().sum())"
      ],
      "execution_count": 205,
      "outputs": [
        {
          "output_type": "stream",
          "text": [
            "nome                     0\n",
            "plataforma               0\n",
            "genero                   0\n",
            "editora                  3\n",
            "vendas                   0\n",
            "lancamento             618\n",
            "avaliacao-criticos     948\n",
            "numero-criticos        948\n",
            "avaliacao-usuarios    1024\n",
            "numero-usuarios       1024\n",
            "fabricante             627\n",
            "dtype: int64\n",
            "nome                    0\n",
            "genero                  0\n",
            "editora                 3\n",
            "vendas                  0\n",
            "lancamento            618\n",
            "avaliacao-criticos    829\n",
            "numero-criticos       829\n",
            "avaliacao-usuarios    873\n",
            "numero-usuarios       873\n",
            "dtype: int64\n"
          ],
          "name": "stdout"
        }
      ]
    },
    {
      "cell_type": "markdown",
      "metadata": {
        "id": "4V_OdqieFoPu"
      },
      "source": [
        "# **Tratamento final de valores faltantes.**\r\n",
        "\r\n",
        "Para tratar os valores ‘NaN’ ainda presentes no DF, minha decisão foi agrupar o DF pelo atributo “Gênero”, calcular a mediana e substituir os valores faltantes daquele determinado gênero por sua respectiva mediana.\r\n",
        "O intuito deste tratamento é definir um comportamento para a comunidade “gamer’’ daquele determinado gênero.\r\n"
      ]
    },
    {
      "cell_type": "code",
      "metadata": {
        "id": "PaN4MvuUFpRc"
      },
      "source": [
        "tbl_avaliacao_criticos_genero = dados[[\"genero\",\"avaliacao-criticos\"]]\r\n",
        "median_avaliacao_criticos_genero = tbl_avaliacao_criticos_genero.groupby(\"genero\").median()\r\n",
        "\r\n",
        "tbl_numero_criticos_genero = dados[[\"genero\", \"numero-criticos\"]]\r\n",
        "median_numero_criticos_genero = tbl_numero_criticos_genero.groupby(\"genero\").median()\r\n",
        "\r\n",
        "tbl_avaliacao_usuarios_genero = dados[[\"genero\", \"avaliacao-usuarios\"]]\r\n",
        "median_avaliacao_usuarios_genero = tbl_avaliacao_usuarios_genero.groupby(\"genero\").median()\r\n",
        "\r\n",
        "tbl_numero_usuarios_genero = dados[[\"genero\", \"numero-usuarios\"]]\r\n",
        "median_numero_usuarios_genero = tbl_numero_usuarios_genero.groupby(\"genero\").median()\r\n"
      ],
      "execution_count": 206,
      "outputs": []
    },
    {
      "cell_type": "code",
      "metadata": {
        "colab": {
          "base_uri": "https://localhost:8080/"
        },
        "id": "2t3amZyzF5xO",
        "outputId": "166ea822-e7fb-46d0-9131-e763380d9cf4"
      },
      "source": [
        "for e in median_avaliacao_criticos_genero.index:\r\n",
        "    tbl_avaliacao_criticos_genero.loc[tbl_avaliacao_criticos_genero[\"genero\"] == e] =\\\r\n",
        "        tbl_avaliacao_criticos_genero.loc[tbl_avaliacao_criticos_genero[\"genero\"] == e].\\\r\n",
        "            fillna(median_avaliacao_criticos_genero[\"avaliacao-criticos\"].get(e))\r\n",
        "dados[\"avaliacao-criticos\"] = tbl_avaliacao_criticos_genero[\"avaliacao-criticos\"]"
      ],
      "execution_count": 207,
      "outputs": [
        {
          "output_type": "stream",
          "text": [
            "/usr/local/lib/python3.6/dist-packages/pandas/core/indexing.py:1715: SettingWithCopyWarning: \n",
            "A value is trying to be set on a copy of a slice from a DataFrame.\n",
            "Try using .loc[row_indexer,col_indexer] = value instead\n",
            "\n",
            "See the caveats in the documentation: https://pandas.pydata.org/pandas-docs/stable/user_guide/indexing.html#returning-a-view-versus-a-copy\n",
            "  isetter(loc, v)\n"
          ],
          "name": "stderr"
        }
      ]
    },
    {
      "cell_type": "code",
      "metadata": {
        "colab": {
          "base_uri": "https://localhost:8080/"
        },
        "id": "Z6LsEiGxF8BW",
        "outputId": "58043533-d433-4d37-b581-b2ceb33c48dc"
      },
      "source": [
        "for e in median_numero_criticos_genero.index:\r\n",
        "    tbl_numero_criticos_genero.loc[tbl_numero_criticos_genero[\"genero\"] == e] =\\\r\n",
        "        tbl_numero_criticos_genero.loc[tbl_numero_criticos_genero[\"genero\"] == e].\\\r\n",
        "            fillna(median_numero_criticos_genero[\"numero-criticos\"].get(e))\r\n",
        "dados[\"numero-criticos\"] = tbl_numero_criticos_genero[\"numero-criticos\"]"
      ],
      "execution_count": 208,
      "outputs": [
        {
          "output_type": "stream",
          "text": [
            "/usr/local/lib/python3.6/dist-packages/pandas/core/indexing.py:1715: SettingWithCopyWarning: \n",
            "A value is trying to be set on a copy of a slice from a DataFrame.\n",
            "Try using .loc[row_indexer,col_indexer] = value instead\n",
            "\n",
            "See the caveats in the documentation: https://pandas.pydata.org/pandas-docs/stable/user_guide/indexing.html#returning-a-view-versus-a-copy\n",
            "  isetter(loc, v)\n"
          ],
          "name": "stderr"
        }
      ]
    },
    {
      "cell_type": "code",
      "metadata": {
        "colab": {
          "base_uri": "https://localhost:8080/"
        },
        "id": "a__hlyD-F9yO",
        "outputId": "b6dfb09d-5ea8-4af3-91fe-866b8efd368e"
      },
      "source": [
        "for e in median_avaliacao_usuarios_genero.index:\r\n",
        "    tbl_avaliacao_usuarios_genero.loc[tbl_avaliacao_usuarios_genero[\"genero\"] == e] =\\\r\n",
        "        tbl_avaliacao_usuarios_genero.loc[tbl_avaliacao_usuarios_genero[\"genero\"] == e].\\\r\n",
        "            fillna(median_avaliacao_usuarios_genero[\"avaliacao-usuarios\"].get(e))\r\n",
        "dados[\"avaliacao-usuarios\"] = tbl_avaliacao_usuarios_genero[\"avaliacao-usuarios\"]"
      ],
      "execution_count": 209,
      "outputs": [
        {
          "output_type": "stream",
          "text": [
            "/usr/local/lib/python3.6/dist-packages/pandas/core/indexing.py:1715: SettingWithCopyWarning: \n",
            "A value is trying to be set on a copy of a slice from a DataFrame.\n",
            "Try using .loc[row_indexer,col_indexer] = value instead\n",
            "\n",
            "See the caveats in the documentation: https://pandas.pydata.org/pandas-docs/stable/user_guide/indexing.html#returning-a-view-versus-a-copy\n",
            "  isetter(loc, v)\n"
          ],
          "name": "stderr"
        }
      ]
    },
    {
      "cell_type": "code",
      "metadata": {
        "colab": {
          "base_uri": "https://localhost:8080/"
        },
        "id": "CfoFWgVXF_vQ",
        "outputId": "c33f0e03-670c-4ead-caac-4b9d4c0e6f3d"
      },
      "source": [
        "for e in median_numero_usuarios_genero.index:\r\n",
        "    tbl_numero_usuarios_genero.loc[tbl_numero_usuarios_genero[\"genero\"] == e] =\\\r\n",
        "        tbl_numero_usuarios_genero.loc[tbl_numero_usuarios_genero[\"genero\"] == e].\\\r\n",
        "            fillna(median_numero_usuarios_genero[\"numero-usuarios\"].get(e))\r\n",
        "dados[\"numero-usuarios\"] = tbl_numero_usuarios_genero[\"numero-usuarios\"]"
      ],
      "execution_count": 210,
      "outputs": [
        {
          "output_type": "stream",
          "text": [
            "/usr/local/lib/python3.6/dist-packages/pandas/core/indexing.py:1715: SettingWithCopyWarning: \n",
            "A value is trying to be set on a copy of a slice from a DataFrame.\n",
            "Try using .loc[row_indexer,col_indexer] = value instead\n",
            "\n",
            "See the caveats in the documentation: https://pandas.pydata.org/pandas-docs/stable/user_guide/indexing.html#returning-a-view-versus-a-copy\n",
            "  isetter(loc, v)\n"
          ],
          "name": "stderr"
        }
      ]
    },
    {
      "cell_type": "code",
      "metadata": {
        "colab": {
          "base_uri": "https://localhost:8080/"
        },
        "id": "ToN37PC5GcHL",
        "outputId": "c7445f59-d091-4ce1-de6c-01cb58082e5d"
      },
      "source": [
        "print(dados.isnull().sum())"
      ],
      "execution_count": 211,
      "outputs": [
        {
          "output_type": "stream",
          "text": [
            "nome                    0\n",
            "genero                  0\n",
            "editora                 3\n",
            "vendas                  0\n",
            "lancamento            618\n",
            "avaliacao-criticos      0\n",
            "numero-criticos         0\n",
            "avaliacao-usuarios      0\n",
            "numero-usuarios         0\n",
            "dtype: int64\n"
          ],
          "name": "stdout"
        }
      ]
    },
    {
      "cell_type": "markdown",
      "metadata": {
        "id": "jXzMMG34tF_7"
      },
      "source": [
        "# **Gerando uma nova base de dados.**"
      ]
    },
    {
      "cell_type": "code",
      "metadata": {
        "colab": {
          "base_uri": "https://localhost:8080/"
        },
        "id": "1-ON9N4ntNki",
        "outputId": "7fcb3d74-a564-4f2c-a4a7-c7c87c56a736"
      },
      "source": [
        "dados = dados.dropna(subset=[\"editora\"])\r\n",
        "dados = dados.drop(columns=['lancamento'])\r\n",
        "print(dados.columns)\r\n",
        "novoDataFrame = dados.drop_duplicates(subset=[\"nome\"]);\r\n",
        "print(novoDataFrame.isnull().sum())\r\n",
        "print(dados.isnull().sum())\r\n"
      ],
      "execution_count": 212,
      "outputs": [
        {
          "output_type": "stream",
          "text": [
            "Index(['nome', 'genero', 'editora', 'vendas', 'avaliacao-criticos',\n",
            "       'numero-criticos', 'avaliacao-usuarios', 'numero-usuarios'],\n",
            "      dtype='object')\n",
            "nome                  0\n",
            "genero                0\n",
            "editora               0\n",
            "vendas                0\n",
            "avaliacao-criticos    0\n",
            "numero-criticos       0\n",
            "avaliacao-usuarios    0\n",
            "numero-usuarios       0\n",
            "dtype: int64\n",
            "nome                  0\n",
            "genero                0\n",
            "editora               0\n",
            "vendas                0\n",
            "avaliacao-criticos    0\n",
            "numero-criticos       0\n",
            "avaliacao-usuarios    0\n",
            "numero-usuarios       0\n",
            "dtype: int64\n"
          ],
          "name": "stdout"
        }
      ]
    },
    {
      "cell_type": "markdown",
      "metadata": {
        "id": "5-N2QImCaCm_"
      },
      "source": [
        "# **Normalizando dados numericos.**"
      ]
    },
    {
      "cell_type": "code",
      "metadata": {
        "colab": {
          "base_uri": "https://localhost:8080/"
        },
        "id": "iJnPbDtWaGHY",
        "outputId": "55424748-1374-45a0-e3a5-a6b997c519d5"
      },
      "source": [
        "from sklearn import preprocessing\r\n",
        "dadosNormalizados = novoDataFrame[[\"vendas\",\"avaliacao-criticos\", \"numero-criticos\", \"avaliacao-usuarios\", \"numero-usuarios\"]]\r\n",
        "scaler =  preprocessing.RobustScaler()\r\n",
        "normalizados = pd.DataFrame( scaler.fit_transform(dadosNormalizados), columns=dadosNormalizados.columns )\r\n",
        "print(normalizados)\r\n",
        "print(normalizados.min())\r\n",
        "print(normalizados.max())\r\n",
        "dadosNormalizados[\"vendas\"] = normalizados[\"vendas\"]\r\n",
        "dadosNormalizados[\"avaliacao-criticos\"] = normalizados[\"avaliacao-criticos\"]\r\n",
        "dadosNormalizados[\"numero-criticos\"] = normalizados[\"numero-criticos\"] \r\n",
        "dadosNormalizados[\"avaliacao-usuarios\"] = normalizados[\"avaliacao-usuarios\"] \r\n",
        "dadosNormalizados[\"numero-usuarios\"] = normalizados[\"numero-usuarios\"]\r\n",
        "print(normalizados.isnull().sum())\r\n",
        "print(dadosNormalizados.isnull().sum())"
      ],
      "execution_count": 213,
      "outputs": [
        {
          "output_type": "stream",
          "text": [
            "/usr/local/lib/python3.6/dist-packages/ipykernel_launcher.py:8: SettingWithCopyWarning: \n",
            "A value is trying to be set on a copy of a slice from a DataFrame.\n",
            "Try using .loc[row_indexer,col_indexer] = value instead\n",
            "\n",
            "See the caveats in the documentation: https://pandas.pydata.org/pandas-docs/stable/user_guide/indexing.html#returning-a-view-versus-a-copy\n",
            "  \n"
          ],
          "name": "stderr"
        },
        {
          "output_type": "stream",
          "text": [
            "      vendas  avaliacao-criticos  ...  avaliacao-usuarios  numero-usuarios\n",
            "0      7.500            0.722222  ...              1.0000         0.984127\n",
            "1      0.050            1.388889  ...              1.5000         0.190476\n",
            "2     -0.350           -0.277778  ...              0.5000        -0.095238\n",
            "3      0.000            0.111111  ...             -0.4375        -0.158730\n",
            "4     -0.325            0.055556  ...             -0.2500        -0.174603\n",
            "...      ...                 ...  ...                 ...              ...\n",
            "1445  -0.300            0.055556  ...             -0.2500        -0.174603\n",
            "1446  -0.350           -0.277778  ...              0.5000        -0.095238\n",
            "1447  -0.150           -2.722222  ...             -3.7500        -0.285714\n",
            "1448  -0.325           -0.277778  ...              0.0000         0.063492\n",
            "1449   0.625            0.055556  ...             -0.2500        -0.174603\n",
            "\n",
            "[1450 rows x 5 columns]\n",
            "vendas               -0.350000\n",
            "avaliacao-criticos   -6.277778\n",
            "numero-criticos      -0.976744\n",
            "avaliacao-usuarios   -8.000000\n",
            "numero-usuarios      -0.539683\n",
            "dtype: float64\n",
            "vendas                 80.225000\n",
            "avaliacao-criticos      3.166667\n",
            "numero-criticos         3.534884\n",
            "avaliacao-usuarios      3.875000\n",
            "numero-usuarios       157.365079\n",
            "dtype: float64\n",
            "vendas                0\n",
            "avaliacao-criticos    0\n",
            "numero-criticos       0\n",
            "avaliacao-usuarios    0\n",
            "numero-usuarios       0\n",
            "dtype: int64\n",
            "vendas                140\n",
            "avaliacao-criticos    140\n",
            "numero-criticos       140\n",
            "avaliacao-usuarios    140\n",
            "numero-usuarios       140\n",
            "dtype: int64\n"
          ],
          "name": "stdout"
        },
        {
          "output_type": "stream",
          "text": [
            "/usr/local/lib/python3.6/dist-packages/ipykernel_launcher.py:9: SettingWithCopyWarning: \n",
            "A value is trying to be set on a copy of a slice from a DataFrame.\n",
            "Try using .loc[row_indexer,col_indexer] = value instead\n",
            "\n",
            "See the caveats in the documentation: https://pandas.pydata.org/pandas-docs/stable/user_guide/indexing.html#returning-a-view-versus-a-copy\n",
            "  if __name__ == '__main__':\n",
            "/usr/local/lib/python3.6/dist-packages/ipykernel_launcher.py:10: SettingWithCopyWarning: \n",
            "A value is trying to be set on a copy of a slice from a DataFrame.\n",
            "Try using .loc[row_indexer,col_indexer] = value instead\n",
            "\n",
            "See the caveats in the documentation: https://pandas.pydata.org/pandas-docs/stable/user_guide/indexing.html#returning-a-view-versus-a-copy\n",
            "  # Remove the CWD from sys.path while we load stuff.\n",
            "/usr/local/lib/python3.6/dist-packages/ipykernel_launcher.py:11: SettingWithCopyWarning: \n",
            "A value is trying to be set on a copy of a slice from a DataFrame.\n",
            "Try using .loc[row_indexer,col_indexer] = value instead\n",
            "\n",
            "See the caveats in the documentation: https://pandas.pydata.org/pandas-docs/stable/user_guide/indexing.html#returning-a-view-versus-a-copy\n",
            "  # This is added back by InteractiveShellApp.init_path()\n",
            "/usr/local/lib/python3.6/dist-packages/ipykernel_launcher.py:12: SettingWithCopyWarning: \n",
            "A value is trying to be set on a copy of a slice from a DataFrame.\n",
            "Try using .loc[row_indexer,col_indexer] = value instead\n",
            "\n",
            "See the caveats in the documentation: https://pandas.pydata.org/pandas-docs/stable/user_guide/indexing.html#returning-a-view-versus-a-copy\n",
            "  if sys.path[0] == '':\n"
          ],
          "name": "stderr"
        }
      ]
    },
    {
      "cell_type": "markdown",
      "metadata": {
        "id": "na7XbK4MPfc9"
      },
      "source": [
        "#     **Ordenando dados e gerando graficos**"
      ]
    },
    {
      "cell_type": "markdown",
      "metadata": {
        "id": "tdJmf_3Z_VdI"
      },
      "source": [
        "**Jogos vs Genero**"
      ]
    },
    {
      "cell_type": "code",
      "metadata": {
        "colab": {
          "base_uri": "https://localhost:8080/",
          "height": 668
        },
        "id": "DypC4CYp_aaG",
        "outputId": "4311b79b-a8de-4f36-eccd-e4d1ff3076a8"
      },
      "source": [
        "import matplotlib.pyplot as plt\r\n",
        "novoDataFrame[['genero']].value_counts().plot.bar(figsize=(10,10))\r\n",
        "plt.show()"
      ],
      "execution_count": 214,
      "outputs": [
        {
          "output_type": "display_data",
          "data": {
            "image/png": "[encoded data removed]",
            "text/plain": [
              "<Figure size 720x720 with 1 Axes>"
            ]
          },
          "metadata": {
            "tags": [],
            "needs_background": "light"
          }
        }
      ]
    },
    {
      "cell_type": "markdown",
      "metadata": {
        "id": "3uQ-Qdbp_vdV"
      },
      "source": [
        "**Vendas vs Genero**"
      ]
    },
    {
      "cell_type": "code",
      "metadata": {
        "colab": {
          "base_uri": "https://localhost:8080/",
          "height": 657
        },
        "id": "2wOyJcM__y50",
        "outputId": "277a34c3-0b23-47e0-d35c-bd805e524fba"
      },
      "source": [
        "dadosAgrupados = novoDataFrame[['genero', 'vendas']]\\\r\n",
        ".groupby(['genero'])\r\n",
        "dadosAgrupados.sum().\\\r\n",
        "pivot_table(index='genero', values='vendas')\\\r\n",
        ".plot.bar(figsize=(10,10))\r\n",
        "plt.show()"
      ],
      "execution_count": 215,
      "outputs": [
        {
          "output_type": "display_data",
          "data": {
            "image/png": "[encoded data removed]",
            "text/plain": [
              "<Figure size 720x720 with 1 Axes>"
            ]
          },
          "metadata": {
            "tags": [],
            "needs_background": "light"
          }
        }
      ]
    },
    {
      "cell_type": "markdown",
      "metadata": {
        "id": "3iySnKa1Hgn3"
      },
      "source": [
        "**Numero de usuarios vs Genero**"
      ]
    },
    {
      "cell_type": "code",
      "metadata": {
        "colab": {
          "base_uri": "https://localhost:8080/",
          "height": 657
        },
        "id": "VoRw53gTHkz8",
        "outputId": "0648996f-9ba7-4bbd-b5d9-8e8f85f61f9c"
      },
      "source": [
        "dadosAgrupados = novoDataFrame[['genero', 'numero-usuarios']]\\\r\n",
        ".groupby(['genero'])\r\n",
        "\r\n",
        "dadosAgrupados.sum()\\\r\n",
        ".pivot_table(index='genero', values='numero-usuarios')\\\r\n",
        ".plot.bar(figsize=(10,10))\r\n",
        "\r\n",
        "plt.show()"
      ],
      "execution_count": 216,
      "outputs": [
        {
          "output_type": "display_data",
          "data": {
            "image/png": "[encoded data removed]",
            "text/plain": [
              "<Figure size 720x720 with 1 Axes>"
            ]
          },
          "metadata": {
            "tags": [],
            "needs_background": "light"
          }
        }
      ]
    },
    {
      "cell_type": "markdown",
      "metadata": {
        "id": "h9Hs2sciJSgJ"
      },
      "source": [
        "**avaliacao-usuarios vs Genero**"
      ]
    },
    {
      "cell_type": "code",
      "metadata": {
        "colab": {
          "base_uri": "https://localhost:8080/",
          "height": 657
        },
        "id": "2p2kOYyQJUGC",
        "outputId": "05c7b5e2-f34e-4cfb-da35-d72eb061c872"
      },
      "source": [
        "dadosAgrupados = novoDataFrame[['genero', 'avaliacao-usuarios']]\\\r\n",
        ".groupby(['genero'])\r\n",
        "\r\n",
        "dadosAgrupados.sum()\\\r\n",
        ".pivot_table(index='genero', values='avaliacao-usuarios')\\\r\n",
        ".plot.bar(figsize=(10,10))\r\n",
        "\r\n",
        "plt.show()"
      ],
      "execution_count": 217,
      "outputs": [
        {
          "output_type": "display_data",
          "data": {
            "image/png": "[encoded data removed]",
            "text/plain": [
              "<Figure size 720x720 with 1 Axes>"
            ]
          },
          "metadata": {
            "tags": [],
            "needs_background": "light"
          }
        }
      ]
    },
    {
      "cell_type": "markdown",
      "metadata": {
        "id": "bg_i2lmYJxo5"
      },
      "source": [
        "**numero-criticos vs Genero**"
      ]
    },
    {
      "cell_type": "code",
      "metadata": {
        "colab": {
          "base_uri": "https://localhost:8080/",
          "height": 657
        },
        "id": "9sHsE3JlJyEx",
        "outputId": "9640464e-eb51-4c50-f736-b9188cd7f367"
      },
      "source": [
        "dadosAgrupados = novoDataFrame[['genero', 'numero-criticos']]\\\r\n",
        ".groupby(['genero'])\r\n",
        "dadosAgrupados.sum()\\\r\n",
        ".pivot_table(index='genero', values='numero-criticos')\\\r\n",
        ".plot.bar(figsize=(10,10))\r\n",
        "\r\n",
        "plt.show()"
      ],
      "execution_count": 218,
      "outputs": [
        {
          "output_type": "display_data",
          "data": {
            "image/png": "[encoded data removed]",
            "text/plain": [
              "<Figure size 720x720 with 1 Axes>"
            ]
          },
          "metadata": {
            "tags": [],
            "needs_background": "light"
          }
        }
      ]
    },
    {
      "cell_type": "markdown",
      "metadata": {
        "id": "LaRCqQSmKr63"
      },
      "source": [
        "**avaliacao-criticos vs Genero**"
      ]
    },
    {
      "cell_type": "code",
      "metadata": {
        "colab": {
          "base_uri": "https://localhost:8080/",
          "height": 657
        },
        "id": "iyRHH1YFKsSO",
        "outputId": "c7a32d2b-db55-4863-a033-5b8a9e97cc44"
      },
      "source": [
        "dadosAgrupados = novoDataFrame[['genero', 'avaliacao-criticos']]\\\r\n",
        ".groupby(['genero'])\r\n",
        "dadosAgrupados.sum()\\\r\n",
        ".pivot_table(index='genero', values='avaliacao-criticos')\\\r\n",
        ".plot.bar(figsize=(10,10))\r\n",
        "plt.show()"
      ],
      "execution_count": 219,
      "outputs": [
        {
          "output_type": "display_data",
          "data": {
            "image/png": "[encoded data removed]",
            "text/plain": [
              "<Figure size 720x720 with 1 Axes>"
            ]
          },
          "metadata": {
            "tags": [],
            "needs_background": "light"
          }
        }
      ]
    }
  ]
}